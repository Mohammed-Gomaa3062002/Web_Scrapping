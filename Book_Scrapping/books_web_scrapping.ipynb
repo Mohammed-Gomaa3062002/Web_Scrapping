{
 "cells": [
  {
   "cell_type": "code",
   "execution_count": 9,
   "metadata": {},
   "outputs": [],
   "source": [
    "import requests \n",
    "from bs4 import BeautifulSoup \n",
    "from selenium import webdriver\n",
    "import lxml \n",
    "import pandas as pd "
   ]
  },
  {
   "cell_type": "code",
   "execution_count": 10,
   "metadata": {},
   "outputs": [],
   "source": [
    "# Get url :) \n",
    "# Home bage \n",
    "url = \"https://books.toscrape.com/catalogue/page-1.html\""
   ]
  },
  {
   "cell_type": "code",
   "execution_count": 12,
   "metadata": {},
   "outputs": [],
   "source": [
    "# Empty lists :)\n",
    "\n",
    "# link pages \n",
    "links = []\n",
    "# info about book :) \n",
    "Titles = []\n",
    "Price = []\n",
    "Ratings = []\n",
    "instock_availability = []"
   ]
  },
  {
   "cell_type": "code",
   "execution_count": 13,
   "metadata": {},
   "outputs": [],
   "source": [
    "for i in range(1,50): \n",
    "      # Connection :) \n",
    "    re = requests.get(f\"https://books.toscrape.com/catalogue/page-{i}.html\")\n",
    "    src = re.content \n",
    "\n",
    "    # soup Object \n",
    "    soup = BeautifulSoup(src,\"html.parser\")\n",
    "\n",
    "    # Order_List \n",
    "    articles = soup.find(\"ol\").find_all(\"article\",{\"class\":\"product_pod\"})\n",
    "\n",
    "    # loop to extract content of each article \n",
    "    for article in articles:\n",
    "        # Title  \n",
    "        title = article.find(\"img\").attrs[\"alt\"]\n",
    "        Titles.append(title)\n",
    "        # Price \n",
    "        price = article.find(\"p\",{\"class\":\"price_color\"})\n",
    "        Price.append(price.text)\n",
    "        # Ratings \n",
    "        ratings = article.find(\"p\")\n",
    "        ratings = ratings.attrs['class']\n",
    "        Ratings.append(ratings[1])\n",
    "        # availability\n",
    "        availability = article.find(\"p\",{\"class\":\"instock availability\"}) \n",
    "        instock_availability.append((availability.text).replace(\"\\n\",\"\").strip())"
   ]
  },
  {
   "cell_type": "code",
   "execution_count": null,
   "metadata": {},
   "outputs": [],
   "source": [
    "books = pd.DataFrame({\"Title\":pd.Series(Titles), \n",
    "                      \"Price\":pd.Series(Price), \n",
    "                      \"availability\":pd.Series(instock_availability), \n",
    "                      \"Ratings\":pd.Series(Ratings)})\n",
    "books.to_csv(\"E://mohamed gomaa/Trianing/Web_scrapping/books_web.csv\")"
   ]
  },
  {
   "cell_type": "code",
   "execution_count": null,
   "metadata": {},
   "outputs": [],
   "source": [
    "\n"
   ]
  }
 ],
 "metadata": {
  "kernelspec": {
   "display_name": "Python 3",
   "language": "python",
   "name": "python3"
  },
  "language_info": {
   "codemirror_mode": {
    "name": "ipython",
    "version": 3
   },
   "file_extension": ".py",
   "mimetype": "text/x-python",
   "name": "python",
   "nbconvert_exporter": "python",
   "pygments_lexer": "ipython3",
   "version": "3.9.13"
  },
  "orig_nbformat": 4
 },
 "nbformat": 4,
 "nbformat_minor": 2
}
